{
 "cells": [
  {
   "cell_type": "markdown",
   "id": "ea2e176f-7cd7-4c44-b28a-190489f31ac0",
   "metadata": {},
   "source": [
    "# DATA EXPLORATION\n",
    "\n",
    "We will explore the data to detect `fake users`."
   ]
  },
  {
   "cell_type": "markdown",
   "id": "03d0196c-2653-48fe-bcc4-623f38790bcd",
   "metadata": {},
   "source": [
    "# 1. Loading packages"
   ]
  },
  {
   "cell_type": "code",
   "execution_count": null,
   "id": "6e8621f9-5f52-497b-a652-bd59cb093bf5",
   "metadata": {},
   "outputs": [],
   "source": [
    "import numpy as np\n",
    "import pandas as pd\n",
    "import matplotlib.pyplot as plt\n",
    "\n",
    "from IPython.core.interactiveshell import InteractiveShell\n",
    "InteractiveShell.ast_node_interactivity = \"all\""
   ]
  },
  {
   "cell_type": "markdown",
   "id": "1dfce68a-4507-4c00-a29b-7b3160a1a0f5",
   "metadata": {},
   "source": [
    "# 2. Data analysis"
   ]
  },
  {
   "cell_type": "code",
   "execution_count": null,
   "id": "0677e534-ea18-4c41-b3d9-b131c1863800",
   "metadata": {},
   "outputs": [],
   "source": [
    "# Loading the file to use for training a futur model\n",
    "df = pd.read_csv('../data/fake_users.csv')"
   ]
  },
  {
   "cell_type": "code",
   "execution_count": null,
   "id": "307c7306-8ba9-499c-974b-7f66c7f022cd",
   "metadata": {},
   "outputs": [],
   "source": [
    "df.head(2)"
   ]
  },
  {
   "cell_type": "code",
   "execution_count": null,
   "id": "146c7bce-b8c0-4a16-ad6e-70e1d1767a8b",
   "metadata": {},
   "outputs": [],
   "source": [
    "df.shape"
   ]
  },
  {
   "cell_type": "code",
   "execution_count": null,
   "id": "0190513a-a732-455b-b9e1-4b6793da7fa8",
   "metadata": {},
   "outputs": [],
   "source": [
    "df.UserId.nunique()\n",
    "df.Event.nunique()\n",
    "df.Category.nunique()"
   ]
  },
  {
   "cell_type": "code",
   "execution_count": null,
   "id": "cacc5290-3b0a-4580-a9cd-ce4aa0f6246a",
   "metadata": {},
   "outputs": [],
   "source": [
    "df[df.Fake == 0][\"UserId\"].nunique()\n",
    "df[df.Fake == 1][\"UserId\"].nunique()"
   ]
  },
  {
   "cell_type": "markdown",
   "id": "79dec08d-200d-4d92-af4a-c81dd22e5585",
   "metadata": {},
   "source": [
    "<div class=\"alert alert-block alert-info\">\n",
    "    <b>NOTE:</b>\n",
    "    <p>\n",
    "        We can observe that the dataset has in total:\n",
    "        <ul>\n",
    "            <li>5300 unique UserIds</li>\n",
    "            <li>5 unique event types</li>\n",
    "            <li>6 unique category types</li>\n",
    "        </ul>\n",
    "    All users are tagged as <b>Fake</b> or <b>no-Fake</b>. If some users would be tagged with both labels, we should remove them for the training set, since we do not have enough information to keep them.\n",
    "    </p>\n",
    "</div>"
   ]
  },
  {
   "cell_type": "markdown",
   "id": "8ded4337-1d4d-4596-a098-8e1386b25901",
   "metadata": {},
   "source": [
    "## 2.1. Fake vs No-Fake"
   ]
  },
  {
   "cell_type": "code",
   "execution_count": null,
   "id": "50eef0eb-cee2-4d84-8210-f70da45eda53",
   "metadata": {},
   "outputs": [],
   "source": [
    "df_Fake = df[df.Fake == 1]\n",
    "df_no_Fake = df[df.Fake == 0]"
   ]
  },
  {
   "cell_type": "code",
   "execution_count": null,
   "id": "82b1a08d-5ab6-4426-a3cb-c48903ffbd6e",
   "metadata": {},
   "outputs": [],
   "source": [
    "df_no_Fake.Event.value_counts()\n",
    "df_Fake.Event.value_counts()"
   ]
  },
  {
   "cell_type": "markdown",
   "id": "141e2b2e-e482-4918-858a-1e503f860ef7",
   "metadata": {},
   "source": [
    "<div class=\"alert alert-block alert-info\">\n",
    "    <b>NOTE:</b>\n",
    "    <p>\n",
    "        We can observe that <b>Fake users</b> tend to perform some event types such as <i>send_email</i> and <i>click_ad</i> compared to no-Fake users. This information can help us to perform the feature engineering to train a classification model.\n",
    "    </p>\n",
    "</div>"
   ]
  },
  {
   "cell_type": "code",
   "execution_count": null,
   "id": "147eb4a1-2338-4a63-bfb7-cb8e744da01d",
   "metadata": {},
   "outputs": [],
   "source": [
    "df_no_Fake.Category.value_counts()\n",
    "df_Fake.Category.value_counts()"
   ]
  },
  {
   "cell_type": "code",
   "execution_count": null,
   "id": "f0241333-e498-4bd7-bb81-0c10a3a074fa",
   "metadata": {},
   "outputs": [],
   "source": [
    "df_grouped_no_fake = df_no_Fake.groupby(\"UserId\").agg(count_category=(\"Category\", \"nunique\"))\n",
    "df_grouped_fake = df_Fake.groupby(\"UserId\").agg(count_category=(\"Category\", \"nunique\"))"
   ]
  },
  {
   "cell_type": "code",
   "execution_count": null,
   "id": "b1aa3057-f3f3-403d-b94f-6f68a5cb8ac7",
   "metadata": {},
   "outputs": [],
   "source": [
    "df_grouped_no_fake.count_category.plot.hist()\n",
    "df_grouped_fake.count_category.plot.hist()\n",
    "plt.title(\"Category Histogram\")\n",
    "plt.legend([\"No-Fake\", \"Fake\"])"
   ]
  },
  {
   "cell_type": "markdown",
   "id": "3b8c2c3d-24fb-4ca2-a8c6-86f770c704f4",
   "metadata": {},
   "source": [
    "<div class=\"alert alert-block alert-info\">\n",
    "    <b>NOTE:</b>\n",
    "    <p>\n",
    "        We can observe that <b>Fake users</b> tend to interact with more categories compared to <b>no-Fake users</b>. In general, Fake users interact with at least <b>5 categories</b>.\n",
    "    </p>\n",
    "</div>"
   ]
  },
  {
   "cell_type": "markdown",
   "id": "130e6756-fc35-4dd0-8461-faf59a10614d",
   "metadata": {},
   "source": [
    "We will observe if we can separe both type of users using only 2 featues: count of events and number of unique categories the user interacts with."
   ]
  },
  {
   "cell_type": "code",
   "execution_count": null,
   "id": "736407fb-5c38-4e68-b22e-00319c8870c4",
   "metadata": {},
   "outputs": [],
   "source": [
    "df_grouped = df.groupby([\"UserId\", \"Fake\"]).agg(count_event=(\"Event\", \"count\"), count_category=(\"Category\", \"nunique\"))"
   ]
  },
  {
   "cell_type": "code",
   "execution_count": null,
   "id": "51a13138-413b-4763-b96f-54b34dfe6a22",
   "metadata": {},
   "outputs": [],
   "source": [
    "df_grouped = df_grouped.reset_index()"
   ]
  },
  {
   "cell_type": "code",
   "execution_count": null,
   "id": "8011c6d4-4345-449d-9d37-731cd86d284d",
   "metadata": {},
   "outputs": [],
   "source": [
    "plt.scatter(df_grouped[\"count_event\"], df_grouped[\"count_category\"], c=df_grouped[\"Fake\"])"
   ]
  },
  {
   "cell_type": "code",
   "execution_count": null,
   "id": "31ac7bcb-bfe6-44b1-8562-635ae25c5e6e",
   "metadata": {},
   "outputs": [],
   "source": [
    "df_grouped[df_grouped.count_event <= 21][\"Fake\"].value_counts()\n",
    "df_grouped[df_grouped.count_event > 21][\"Fake\"].value_counts()"
   ]
  },
  {
   "cell_type": "markdown",
   "id": "3a15bb7c-3066-4824-8932-c1c48dcc9e30",
   "metadata": {},
   "source": [
    "<div class=\"alert alert-block alert-info\">\n",
    "    <b>NOTE:</b>\n",
    "    <p>\n",
    "        We can observe that <b>Fake users</b> and <b>No-Fake users</b> can be separated using just 2 fetures. Let's do to build a model using these features !!!\n",
    "    </p>\n",
    "</div>"
   ]
  }
 ],
 "metadata": {
  "kernelspec": {
   "display_name": "Python 3 (ipykernel)",
   "language": "python",
   "name": "python3"
  },
  "language_info": {
   "codemirror_mode": {
    "name": "ipython",
    "version": 3
   },
   "file_extension": ".py",
   "mimetype": "text/x-python",
   "name": "python",
   "nbconvert_exporter": "python",
   "pygments_lexer": "ipython3",
   "version": "3.9.9"
  }
 },
 "nbformat": 4,
 "nbformat_minor": 5
}
